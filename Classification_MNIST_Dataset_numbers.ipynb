{
 "cells": [
  {
   "cell_type": "code",
   "execution_count": null,
   "id": "7b6b4863",
   "metadata": {},
   "outputs": [],
   "source": [
    "# importing libraries"
   ]
  },
  {
   "cell_type": "code",
   "execution_count": null,
   "id": "72d9b5b1",
   "metadata": {},
   "outputs": [],
   "source": [
    "import tensorflow as tf\n",
    "#from keras datasets select mnist\n",
    "from tensorflow.keras.datasets import mnist\n",
    "(xtrain,ytrain),(xtest,ytest)=mnist.load_data()"
   ]
  },
  {
   "cell_type": "code",
   "execution_count": null,
   "id": "4d01449e",
   "metadata": {},
   "outputs": [],
   "source": [
    "# shape of train test \n",
    "xtrain.shape,xtest.shape\n",
    "#60,000 images of size28,28 in train\n",
    "#10,000 images if size 28,28 in test"
   ]
  },
  {
   "cell_type": "code",
   "execution_count": null,
   "id": "da5b012e",
   "metadata": {},
   "outputs": [],
   "source": [
    "ytrain.shape,ytest.shape"
   ]
  },
  {
   "cell_type": "code",
   "execution_count": null,
   "id": "4e3dd42b",
   "metadata": {},
   "outputs": [],
   "source": [
    "# scale the data\n",
    "xtrain=xtrain/255.\n",
    "xtest=xtest/255."
   ]
  },
  {
   "cell_type": "code",
   "execution_count": null,
   "id": "75d1c4c5",
   "metadata": {},
   "outputs": [],
   "source": [
    "# visulaize some samples\n",
    "import matplotlib.pyplot as plt\n",
    "plt.imshow(xtrain[10,:,:],cmap='gray')"
   ]
  },
  {
   "cell_type": "code",
   "execution_count": null,
   "id": "5d53703c",
   "metadata": {},
   "outputs": [],
   "source": [
    "#reshaping the xtrain,xtest data\n",
    "xtrain1=xtrain.reshape(60000,28*28)\n",
    "xtest1=xtest.reshape(10000,28*28)"
   ]
  },
  {
   "cell_type": "code",
   "execution_count": null,
   "id": "8e555eff",
   "metadata": {},
   "outputs": [],
   "source": [
    "ytrain.shape"
   ]
  },
  {
   "cell_type": "code",
   "execution_count": null,
   "id": "27973c46",
   "metadata": {},
   "outputs": [],
   "source": [
    "ytrain[0]"
   ]
  },
  {
   "cell_type": "code",
   "execution_count": null,
   "id": "de83f29e",
   "metadata": {},
   "outputs": [],
   "source": [
    "# output into classes of 10\n",
    "ytrain=tf.keras.utils.to_categorical(ytrain,num_classes=10)\n",
    "ytest=tf.keras.utils.to_categorical(ytest,num_classes=10)"
   ]
  },
  {
   "cell_type": "code",
   "execution_count": null,
   "id": "347e2e72",
   "metadata": {},
   "outputs": [],
   "source": [
    "ytrain.shape"
   ]
  },
  {
   "cell_type": "code",
   "execution_count": null,
   "id": "d6465143",
   "metadata": {},
   "outputs": [],
   "source": [
    "from tensorflow.keras.models import Sequential\n",
    "from tensorflow.keras.layers import Dense,Dropout\n"
   ]
  },
  {
   "cell_type": "code",
   "execution_count": null,
   "id": "9bfdc81c",
   "metadata": {},
   "outputs": [],
   "source": [
    "#building the model\n",
    "my_model=Sequential()\n",
    "my_model.add(Dense(units=1024,activation='relu',input_dim=28*28))\n",
    "my_model.add(Dropout(.2))\n",
    "#my_model.add(Dense(units=512,activation='relu'))\n",
    "#my_model.add(Dense(units=32,activation='relu'))\n",
    "my_model.add(Dense(units=10,activation='softmax'))"
   ]
  },
  {
   "cell_type": "code",
   "execution_count": null,
   "id": "e7f7ad8e",
   "metadata": {},
   "outputs": [],
   "source": [
    "my_model.summary()"
   ]
  },
  {
   "cell_type": "code",
   "execution_count": null,
   "id": "91e49a3d",
   "metadata": {},
   "outputs": [],
   "source": [
    "# using adam as optimizer here\n",
    "my_model.compile(optimizer='adam',loss='categorical_crossentropy',metrics=['accuracy'])"
   ]
  },
  {
   "cell_type": "code",
   "execution_count": null,
   "id": "510c4f9b",
   "metadata": {},
   "outputs": [],
   "source": [
    "#fitting the model\n",
    "my_model.fit(xtrain1,ytrain,batch_size=512,epochs=100)"
   ]
  },
  {
   "cell_type": "code",
   "execution_count": null,
   "id": "2eb8118b",
   "metadata": {},
   "outputs": [],
   "source": [
    "# evaluating the model\n",
    "my_model.evaluate(xtest1,ytest)\n",
    "#getting around 98%accuracy"
   ]
  },
  {
   "cell_type": "code",
   "execution_count": null,
   "id": "44cb5548",
   "metadata": {},
   "outputs": [],
   "source": [
    "ytest.shape"
   ]
  },
  {
   "cell_type": "code",
   "execution_count": null,
   "id": "f328dcba",
   "metadata": {},
   "outputs": [],
   "source": [
    "# to save model\n",
    "tf.keras.models.save_model(my_model,'C:\\\\Users\\\\warda\\\\MNISTdata\\\\')"
   ]
  },
  {
   "cell_type": "code",
   "execution_count": null,
   "id": "0b023f9a",
   "metadata": {},
   "outputs": [],
   "source": [
    "#testing the model\n",
    "test_image=xtest[10,:,:]\n",
    "plt.imshow(test_image,cmap='gray')\n",
    "print(ytest[0])"
   ]
  },
  {
   "cell_type": "code",
   "execution_count": null,
   "id": "8e7efaa8",
   "metadata": {},
   "outputs": [],
   "source": [
    "test_image=xtest[10,:,:]\n",
    "plt.imshow(test_image,cmap='gray')\n",
    "print(\"the actual output of the image class\",ytest[10])\n",
    "test_image1=test_image.reshape(1,28*28)\n",
    "yprob=my_model.predict(test_image1)\n",
    "ypred=(yprob>.5).astype(int)\n",
    "print('The predicted output of the image class',ypred)"
   ]
  },
  {
   "cell_type": "code",
   "execution_count": null,
   "id": "2a942030",
   "metadata": {},
   "outputs": [],
   "source": [
    "#forming a table to know how many images are correctly classified"
   ]
  },
  {
   "cell_type": "code",
   "execution_count": null,
   "id": "c426a1c2",
   "metadata": {},
   "outputs": [],
   "source": [
    "import numpy as np\n",
    "import pandas as pd\n",
    "table=pd.DataFrame()\n",
    "for i in range(0,len(xtest)):\n",
    "    \n",
    "        test_image=xtest[i,:,:]\n",
    "    \n",
    "        test_image1=test_image.reshape(1,28*28)\n",
    "        yprob=my_model.predict(test_image1)\n",
    "        \n",
    "        if ytest[i].argmax()==yprob.argmax():\n",
    "            table=table.append({'Actual':ytest[i].argmax(),'Predicted':yprob.argmax()},ignore_index=True)"
   ]
  },
  {
   "cell_type": "code",
   "execution_count": null,
   "id": "5d328e3b",
   "metadata": {},
   "outputs": [],
   "source": [
    "t=table.groupby('Actual').count()"
   ]
  },
  {
   "cell_type": "code",
   "execution_count": null,
   "id": "2e6f1a88",
   "metadata": {},
   "outputs": [],
   "source": [
    "indx=[]\n",
    "for i in range(len(ytest)):\n",
    "    y=ytest[i].argmax()\n",
    "    indx.append(y)"
   ]
  },
  {
   "cell_type": "code",
   "execution_count": null,
   "id": "51bc9903",
   "metadata": {},
   "outputs": [],
   "source": [
    "ytest_count=pd.Series(indx).value_counts()\n"
   ]
  },
  {
   "cell_type": "code",
   "execution_count": null,
   "id": "bd4a3257",
   "metadata": {},
   "outputs": [],
   "source": [
    "z=pd.concat([t,ytest_count],axis=1)\n",
    "z.columns=['Predicted','Actual']\n",
    "z['%_Correct_Predictions']=(z['Predicted']/z['Actual'])*100\n",
    "z"
   ]
  },
  {
   "cell_type": "code",
   "execution_count": null,
   "id": "15d21a24",
   "metadata": {},
   "outputs": [],
   "source": []
  },
  {
   "cell_type": "code",
   "execution_count": null,
   "id": "5d564dd6",
   "metadata": {},
   "outputs": [],
   "source": [
    "974/980*100"
   ]
  },
  {
   "cell_type": "code",
   "execution_count": null,
   "id": "95518f65",
   "metadata": {},
   "outputs": [],
   "source": []
  }
 ],
 "metadata": {
  "kernelspec": {
   "display_name": "Python 3 (ipykernel)",
   "language": "python",
   "name": "python3"
  },
  "language_info": {
   "codemirror_mode": {
    "name": "ipython",
    "version": 3
   },
   "file_extension": ".py",
   "mimetype": "text/x-python",
   "name": "python",
   "nbconvert_exporter": "python",
   "pygments_lexer": "ipython3",
   "version": "3.7.11"
  }
 },
 "nbformat": 4,
 "nbformat_minor": 5
}
